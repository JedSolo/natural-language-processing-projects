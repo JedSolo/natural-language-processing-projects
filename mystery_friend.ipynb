{
 "cells": [
  {
   "cell_type": "code",
   "execution_count": 10,
   "id": "e772c406",
   "metadata": {},
   "outputs": [
    {
     "name": "stdout",
     "output_type": "stream",
     "text": [
      " If the United States\n",
      "Government would appoint a commission composed of members representing\n",
      "the Labor Unions, manufacturers and merchants, to treat with a similar\n",
      "commission nominated by the Chinese Government, the whole question in\n",
      "all its bearings could be discussed, and I feel certain that after free\n",
      "and candid exchange of views, the joint Commissioners would be able to\n",
      "arrive at a scheme which would put at rest once for all the conflicting\n",
      "claims, and settle the matter satisfactorily to both China and the\n",
      "United States.\n",
      "\n",
      "The postcard was from 2!\n"
     ]
    }
   ],
   "source": [
    "from goldman_emma_raw import goldman_docs\n",
    "from henson_matthew_raw import henson_docs\n",
    "from wu_tingfang_raw import wu_docs\n",
    "# import sklearn modules here:\n",
    "from sklearn.feature_extraction.text import CountVectorizer\n",
    "from sklearn.naive_bayes import MultinomialNB\n",
    "\n",
    "# Setting up the combined list of friends' writing samples\n",
    "friends_docs = goldman_docs + henson_docs + wu_docs\n",
    "# Setting up labels for your three friends\n",
    "friends_labels = [1] * 154 + [2] * 141 + [3] * 166\n",
    "\n",
    "# Print out a document from each friend:\n",
    "print(friends_docs[460])\n",
    "\n",
    "mystery_postcard = \"\"\"\n",
    "My friend,\n",
    "From the 10th of July to the 13th, a fierce storm raged, clouds of\n",
    "freeing spray broke over the ship, incasing her in a coat of icy mail,\n",
    "and the tempest forced all of the ice out of the lower end of the\n",
    "channel and beyond as far as the eye could see, but the _Roosevelt_\n",
    "still remained surrounded by ice.\n",
    "Hope to see you soon.\n",
    "\"\"\"\n",
    "\n",
    "# Create bow_vectorizer:\n",
    "bow_vectorizer = CountVectorizer()\n",
    "\n",
    "# Define friends_vectors:\n",
    "friends_vectors = bow_vectorizer.fit_transform(friends_docs)\n",
    "\n",
    "# Define mystery_vector: \n",
    "mystery_vector = bow_vectorizer.transform([mystery_postcard])\n",
    "\n",
    "# Define friends_classifier:\n",
    "friends_classifier = MultinomialNB()\n",
    "\n",
    "# Train the classifier:\n",
    "friends_classifier.fit(friends_vectors, friends_labels)\n",
    "\n",
    "# Change predictions:\n",
    "predictions = friends_classifier.predict(mystery_vector)\n",
    "\n",
    "mystery_friend = predictions[0] if predictions[0] else \"someone else\"\n",
    "\n",
    "# Uncomment the print statement:\n",
    "print(\"The postcard was from {}!\".format(mystery_friend))"
   ]
  },
  {
   "cell_type": "code",
   "execution_count": null,
   "id": "6bb913b1",
   "metadata": {},
   "outputs": [],
   "source": []
  },
  {
   "cell_type": "code",
   "execution_count": null,
   "id": "651e198e",
   "metadata": {},
   "outputs": [],
   "source": []
  }
 ],
 "metadata": {
  "kernelspec": {
   "display_name": "Python 3",
   "language": "python",
   "name": "python3"
  },
  "language_info": {
   "codemirror_mode": {
    "name": "ipython",
    "version": 3
   },
   "file_extension": ".py",
   "mimetype": "text/x-python",
   "name": "python",
   "nbconvert_exporter": "python",
   "pygments_lexer": "ipython3",
   "version": "3.9.1"
  }
 },
 "nbformat": 4,
 "nbformat_minor": 5
}
